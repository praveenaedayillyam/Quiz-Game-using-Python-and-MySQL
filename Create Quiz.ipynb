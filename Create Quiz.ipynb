{
 "cells": [
  {
   "cell_type": "code",
   "execution_count": 6,
   "id": "12a4b451-7c02-4c84-9b2b-861d8f692b5b",
   "metadata": {},
   "outputs": [],
   "source": [
    "import mysql.connector as mysql_conn\n",
    "import pandas as pd"
   ]
  },
  {
   "cell_type": "code",
   "execution_count": 7,
   "id": "bd5ab862-352c-4693-a56b-24928cc37148",
   "metadata": {},
   "outputs": [],
   "source": [
    "mydb=mysql_conn.connect(host='localhost',user='root',password='12345',database='quiz_project')\n",
    "curs=mydb.cursor()"
   ]
  },
  {
   "cell_type": "code",
   "execution_count": 5,
   "id": "525ccf0b-094e-4ddd-aaf8-d8dafbb8434d",
   "metadata": {},
   "outputs": [
    {
     "name": "stdin",
     "output_type": "stream",
     "text": [
      "Enter Name of Quiz:  MySQL\n",
      "Total Number of Questions:  2\n"
     ]
    },
    {
     "name": "stdout",
     "output_type": "stream",
     "text": [
      "\n",
      "...................................\n",
      "\n",
      "Enter question Number 1 : \n"
     ]
    },
    {
     "name": "stdin",
     "output_type": "stream",
     "text": [
      " which sql command is used for insert datainto the table\n"
     ]
    },
    {
     "name": "stdout",
     "output_type": "stream",
     "text": [
      "Enter options:\n",
      "\n",
      "Enter Option 1 : \n"
     ]
    },
    {
     "name": "stdin",
     "output_type": "stream",
     "text": [
      " update\n"
     ]
    },
    {
     "name": "stdout",
     "output_type": "stream",
     "text": [
      "Enter Option 2 : \n"
     ]
    },
    {
     "name": "stdin",
     "output_type": "stream",
     "text": [
      " insert\n"
     ]
    },
    {
     "name": "stdout",
     "output_type": "stream",
     "text": [
      "Enter Option 3 : \n"
     ]
    },
    {
     "name": "stdin",
     "output_type": "stream",
     "text": [
      " add\n"
     ]
    },
    {
     "name": "stdout",
     "output_type": "stream",
     "text": [
      "Enter Option 4 : \n"
     ]
    },
    {
     "name": "stdin",
     "output_type": "stream",
     "text": [
      " modify\n",
      "Enter the correct option:  2\n"
     ]
    },
    {
     "name": "stdout",
     "output_type": "stream",
     "text": [
      "\n",
      "...................................\n",
      "\n",
      "Enter question Number 2 : \n"
     ]
    },
    {
     "name": "stdin",
     "output_type": "stream",
     "text": [
      " which sql functon is used to find the total number f rows in a table\n"
     ]
    },
    {
     "name": "stdout",
     "output_type": "stream",
     "text": [
      "Enter options:\n",
      "\n",
      "Enter Option 1 : \n"
     ]
    },
    {
     "name": "stdin",
     "output_type": "stream",
     "text": [
      " count\n"
     ]
    },
    {
     "name": "stdout",
     "output_type": "stream",
     "text": [
      "Enter Option 2 : \n"
     ]
    },
    {
     "name": "stdin",
     "output_type": "stream",
     "text": [
      " sum\n"
     ]
    },
    {
     "name": "stdout",
     "output_type": "stream",
     "text": [
      "Enter Option 3 : \n"
     ]
    },
    {
     "name": "stdin",
     "output_type": "stream",
     "text": [
      " avg\n"
     ]
    },
    {
     "name": "stdout",
     "output_type": "stream",
     "text": [
      "Enter Option 4 : \n"
     ]
    },
    {
     "name": "stdin",
     "output_type": "stream",
     "text": [
      " max\n",
      "Enter the correct option:  1\n"
     ]
    },
    {
     "name": "stdout",
     "output_type": "stream",
     "text": [
      "\n",
      "------------------------------------------------------------------------\n",
      "\n",
      "\n",
      "Congratulations !! Your Quiz Successfully Created !!\n",
      " \n"
     ]
    }
   ],
   "source": [
    "quiz_name = input(\"Enter Name of Quiz: \")\n",
    "\n",
    "check_query = \"SELECT id FROM quiz_names WHERE quiz_name = %s\"\n",
    "curs.execute(check_query, (quiz_name,))\n",
    "existing_quiz = curs.fetchone()\n",
    "\n",
    "if existing_quiz:\n",
    "    print(\"Quiz name already exists. Please provide another quiz name.\")\n",
    "else:\n",
    "    query1 = \"SELECT count(id) FROM quiz_names\"\n",
    "    curs.execute(query1)\n",
    "    quiz_id = curs.fetchone()[0]+1\n",
    "    \n",
    "    insert_query = \"INSERT INTO quiz_names(id,quiz_name) VALUES (%s,%s)\"\n",
    "    curs.execute(insert_query, (quiz_id,quiz_name))\n",
    "    \n",
    "    n = int(input(\"Total Number of Questions: \"))\n",
    "    \n",
    "    for i in range(1, n+1):\n",
    "        print(\"\\n...................................\\n\")\n",
    "        print(\"Enter question Number\", i, \": \")\n",
    "        question = input()\n",
    "        \n",
    "        query2 = \"INSERT INTO quiz_questions VALUES (%s, %s, %s)\"\n",
    "        curs.execute(query2, (quiz_id, i, question))\n",
    "    \n",
    "        print(\"Enter options:\\n\")\n",
    "        for j in range(1, 5):\n",
    "            print(\"Enter Option\", j, \": \")\n",
    "            option = input()\n",
    "            query3 = \"INSERT INTO quiz_options (id, q_no, option_no, options_) VALUES (%s, %s, %s, %s)\"\n",
    "            curs.execute(query3, (quiz_id, i, j, option))\n",
    "    \n",
    "        correct = int(input(\"Enter the correct option: \"))  \n",
    "        query4 = \"INSERT INTO quiz_answers (id, q_no, option_no) VALUES (%s, %s, %s)\"\n",
    "        curs.execute(query4, (quiz_id, i, correct))\n",
    "    \n",
    "    mydb.commit()\n",
    "    \n",
    "    print(\"\\n------------------------------------------------------------------------\\n\")\n",
    "    print(\"\\nCongratulations !! Your Quiz Successfully Created !!\\n \")\n",
    "\n",
    "curs.close()\n",
    "mydb.close()\n",
    "    \n",
    "    \n",
    "\n"
   ]
  },
  {
   "cell_type": "code",
   "execution_count": null,
   "id": "8e4b969f-e27c-4449-845c-734fab038227",
   "metadata": {},
   "outputs": [],
   "source": [
    "curs.close()\n",
    "mydb.close()"
   ]
  }
 ],
 "metadata": {
  "kernelspec": {
   "display_name": "Python 3 (ipykernel)",
   "language": "python",
   "name": "python3"
  },
  "language_info": {
   "codemirror_mode": {
    "name": "ipython",
    "version": 3
   },
   "file_extension": ".py",
   "mimetype": "text/x-python",
   "name": "python",
   "nbconvert_exporter": "python",
   "pygments_lexer": "ipython3",
   "version": "3.12.0"
  }
 },
 "nbformat": 4,
 "nbformat_minor": 5
}
